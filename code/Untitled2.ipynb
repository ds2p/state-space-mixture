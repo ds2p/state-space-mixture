{
 "cells": [
  {
   "cell_type": "code",
   "execution_count": 417,
   "metadata": {
    "collapsed": false
   },
   "outputs": [],
   "source": [
    "import numpy as np\n",
    "from binomial_ssm_csmc import particle_filter, bssm_log_likelihood\n",
    "from utils.data import load_network\n",
    "from utils.vis import plot_raster\n",
    "from numba import jit"
   ]
  },
  {
   "cell_type": "code",
   "execution_count": 719,
   "metadata": {
    "collapsed": true
   },
   "outputs": [],
   "source": [
    "network_df = load_network()\n",
    "obs_1ms_df = network_df.apply(lambda x: x.sum(0))\n",
    "n_trials_1ms_df = network_df.apply(lambda x: x.shape[0])\n",
    "\n",
    "n_ms = 5\n",
    "obs_all = obs_1ms_df.apply(lambda x: x.reshape((-1, n_ms)).sum(1)).values.tolist()\n",
    "n_trials_all = n_trials_1ms_df.values * n_ms\n",
    "cue_time = 500 // n_ms"
   ]
  },
  {
   "cell_type": "code",
   "execution_count": 720,
   "metadata": {
    "collapsed": false
   },
   "outputs": [],
   "source": [
    "#BPF\n",
    "@jit(nopython=True, nogil=True)\n",
    "def calc_bssm_log_like_bpf(ob, param, n, n_particles):\n",
    "    n_trials = n_trials_all[n]\n",
    "    jump, log_var = param\n",
    "    p_init = ob[:cue_time].sum() / (500 * n_trials // n_ms) \n",
    "    mean_init = np.log(p_init / (1 - p_init))\n",
    "    var = np.exp(log_var)\n",
    "    return particle_filter(ob[cue_time:], var=var, n_particles=n_particles, n_trials=n_trials, \n",
    "                           mean_init=mean_init+jump, var_init=1e-10)"
   ]
  },
  {
   "cell_type": "code",
   "execution_count": 737,
   "metadata": {
    "collapsed": false
   },
   "outputs": [],
   "source": [
    "# cSMC\n",
    "@jit(nopython=True, nogil=True)\n",
    "def calc_bssm_log_like_csmc(ob, param, n, n_particles):\n",
    "    n_trials = n_trials_all[n]\n",
    "    jump, log_var = param\n",
    "    p_init = ob[:cue_time].sum() / (500 * n_trials // n_ms) \n",
    "    mean_init = np.log(p_init / (1 - p_init))\n",
    "    var = np.exp(log_var)\n",
    "    return bssm_log_likelihood(ob[cue_time:], var=var, n_particles=n_particles, n_trials=n_trials, \n",
    "                               max_iters=3, mean_init=mean_init+jump, var_init=1e-10, ess_threshold=200)"
   ]
  },
  {
   "cell_type": "code",
   "execution_count": 822,
   "metadata": {
    "collapsed": false
   },
   "outputs": [
    {
     "data": {
      "image/png": "[encoded data removed]",
      "text/plain": [
       "<matplotlib.figure.Figure at 0x7f526b54bcc0>"
      ]
     },
     "metadata": {
      "needs_background": "light"
     },
     "output_type": "display_data"
    }
   ],
   "source": [
    "plot_raster(network_df.iloc[25])"
   ]
  },
  {
   "cell_type": "code",
   "execution_count": 823,
   "metadata": {
    "collapsed": false
   },
   "outputs": [
    {
     "name": "stdout",
     "output_type": "stream",
     "text": [
      "CPU times: user 22.5 s, sys: 0 ns, total: 22.5 s\n",
      "Wall time: 22.5 s\n"
     ]
    }
   ],
   "source": [
    "%%time\n",
    "a = []\n",
    "for _ in range(500):\n",
    "    _, _, log_likelihoods, _, _ = calc_bssm_log_like_bpf(obs_all[25], np.array([2, -5]), 25, n_particles=1024)\n",
    "    a.append(log_likelihoods[-1])"
   ]
  },
  {
   "cell_type": "code",
   "execution_count": 829,
   "metadata": {
    "collapsed": false
   },
   "outputs": [
    {
     "name": "stdout",
     "output_type": "stream",
     "text": [
      "0.0250818568248\n",
      "CPU times: user 17.9 s, sys: 0 ns, total: 17.9 s\n",
      "Wall time: 17.9 s\n"
     ]
    }
   ],
   "source": [
    "%%time\n",
    "b = []\n",
    "for _ in range(500):\n",
    "    b.append(calc_bssm_log_like_csmc(obs_all[25], np.array([2, -5]), 25, n_particles=64))\n",
    "print(np.std(b))"
   ]
  },
  {
   "cell_type": "code",
   "execution_count": 855,
   "metadata": {
    "collapsed": false
   },
   "outputs": [
    {
     "data": {
      "text/plain": [
       "array([-2. , -1.8, -1.6, -1.4, -1.2, -1. , -0.8, -0.6, -0.4, -0.2,  0. ,\n",
       "        0.2,  0.4,  0.6,  0.8,  1. ,  1.2,  1.4,  1.6,  1.8,  2. ])"
      ]
     },
     "execution_count": 855,
     "metadata": {},
     "output_type": "execute_result"
    }
   ],
   "source": [
    "np.linspace(-2, 2, 21)"
   ]
  },
  {
   "cell_type": "code",
   "execution_count": 847,
   "metadata": {
    "collapsed": false
   },
   "outputs": [
    {
     "data": {
      "text/plain": [
       "array([-15., -14., -13., -12., -11., -10.,  -9.,  -8.,  -7.,  -6.,  -5.,\n",
       "        -4.,  -3.,  -2.,  -1.,   0.])"
      ]
     },
     "execution_count": 847,
     "metadata": {},
     "output_type": "execute_result"
    }
   ],
   "source": [
    "np.linspace(-15, 0, 16)"
   ]
  },
  {
   "cell_type": "code",
   "execution_count": 848,
   "metadata": {
    "collapsed": false
   },
   "outputs": [
    {
     "data": {
      "text/plain": [
       "816"
      ]
     },
     "execution_count": 848,
     "metadata": {},
     "output_type": "execute_result"
    }
   ],
   "source": [
    "16 * 51"
   ]
  },
  {
   "cell_type": "code",
   "execution_count": 828,
   "metadata": {
    "collapsed": false
   },
   "outputs": [
    {
     "data": {
      "text/plain": [
       "0.86010780755224403"
      ]
     },
     "execution_count": 828,
     "metadata": {},
     "output_type": "execute_result"
    }
   ],
   "source": [
    "np.std(a)"
   ]
  },
  {
   "cell_type": "code",
   "execution_count": 830,
   "metadata": {
    "collapsed": false
   },
   "outputs": [
    {
     "data": {
      "text/plain": [
       "0.025081856824845615"
      ]
     },
     "execution_count": 830,
     "metadata": {},
     "output_type": "execute_result"
    }
   ],
   "source": [
    "np.std(b)"
   ]
  }
 ],
 "metadata": {
  "kernelspec": {
   "display_name": "Python 3",
   "language": "python",
   "name": "python3"
  },
  "language_info": {
   "codemirror_mode": {
    "name": "ipython",
    "version": 3
   },
   "file_extension": ".py",
   "mimetype": "text/x-python",
   "name": "python",
   "nbconvert_exporter": "python",
   "pygments_lexer": "ipython3",
   "version": "3.5.4"
  }
 },
 "nbformat": 4,
 "nbformat_minor": 2
}
