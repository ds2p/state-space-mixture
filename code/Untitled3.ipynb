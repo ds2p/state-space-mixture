{
 "cells": [
  {
   "cell_type": "code",
   "execution_count": 29,
   "metadata": {
    "collapsed": true
   },
   "outputs": [],
   "source": [
    "%matplotlib inline\n",
    "from utils.data import read_pickle\n",
    "from utils.vis import import_camera_ready_settings\n",
    "import seaborn as sns\n",
    "import numpy as np\n",
    "import pandas as pd\n",
    "from mpl_toolkits.mplot3d import Axes3D\n",
    "import matplotlib.pyplot as plt\n",
    "import matplotlib as mpl\n",
    "\n",
    "sns.reset_orig()"
   ]
  },
  {
   "cell_type": "code",
   "execution_count": 37,
   "metadata": {
    "collapsed": true
   },
   "outputs": [],
   "source": [
    "import_camera_ready_settings()"
   ]
  },
  {
   "cell_type": "code",
   "execution_count": 9,
   "metadata": {
    "collapsed": false
   },
   "outputs": [],
   "source": [
    "res = read_pickle('../pickle/bpf-csmc.p')"
   ]
  },
  {
   "cell_type": "code",
   "execution_count": 10,
   "metadata": {
    "collapsed": false
   },
   "outputs": [],
   "source": [
    "bpf = {}\n",
    "csmc = {}\n",
    "for j in res.keys():\n",
    "    bpf[j] = {}\n",
    "    csmc[j] = {}\n",
    "    for v in res[j].keys():\n",
    "        bpf[j][v] = np.var(res[j][v]['bpf'])\n",
    "        csmc[j][v] = np.var(res[j][v]['csmc'])"
   ]
  },
  {
   "cell_type": "code",
   "execution_count": 11,
   "metadata": {
    "collapsed": false
   },
   "outputs": [],
   "source": [
    "Z = pd.DataFrame(bpf)\n",
    "jumps = Z.columns\n",
    "log_vars = Z.index"
   ]
  },
  {
   "cell_type": "code",
   "execution_count": 12,
   "metadata": {
    "collapsed": true
   },
   "outputs": [],
   "source": [
    "W = pd.DataFrame(csmc)"
   ]
  },
  {
   "cell_type": "code",
   "execution_count": 39,
   "metadata": {
    "collapsed": false
   },
   "outputs": [],
   "source": [
    "ax[0, 1].grid(False)"
   ]
  },
  {
   "cell_type": "code",
   "execution_count": 51,
   "metadata": {
    "collapsed": false
   },
   "outputs": [
    {
     "data": {
      "image/png": "[encoded data removed]",
      "text/plain": [
       "<matplotlib.figure.Figure at 0x117d61320>"
      ]
     },
     "metadata": {},
     "output_type": "display_data"
    }
   ],
   "source": [
    "fig, ax = plt.subplots(2, 3, figsize=(7, 4.5))\n",
    "for i, lv in enumerate([0, -2, -4, -6, -8]):\n",
    "    ax[i // 3, i % 3].plot(jumps, np.log10(Z.loc[lv]), c='b')\n",
    "    ax[i // 3, i % 3].plot(jumps, np.log10(W.loc[lv]), c='r')\n",
    "    ax[i // 3, i % 3].set_ylabel('$\\log_{10} \\hat{v}(\\mu, \\psi)$')\n",
    "    ax[i // 3, i % 3].set_xlabel('$\\mu$')\n",
    "    ax[i // 3, i % 3].set_title('$\\log \\psi = %d$' % lv)\n",
    "    ax[i // 3, i % 3].set_ylim([-5, 3])\n",
    "    ax[i // 3, i % 3].set_xticks([-2, -1, 0, 1, 2])\n",
    "    ax[i // 3, i % 3].set_yticks([2, 0, -2, -4])\n",
    "ax[-1, -1].axis('off')\n",
    "ax[1, 1].legend(['BPF', 'cSMC'], bbox_to_anchor=(1.4, 1), prop={'size': 18}, loc='upper left')\n",
    "plt.tight_layout()\n",
    "fig.savefig('../img/bpf-vs-csmc.pdf', bbox_inches='tight')"
   ]
  },
  {
   "cell_type": "code",
   "execution_count": null,
   "metadata": {
    "collapsed": true
   },
   "outputs": [],
   "source": []
  },
  {
   "cell_type": "code",
   "execution_count": null,
   "metadata": {
    "collapsed": true
   },
   "outputs": [],
   "source": [
    "plt.legend()"
   ]
  },
  {
   "cell_type": "code",
   "execution_count": null,
   "metadata": {
    "collapsed": true
   },
   "outputs": [],
   "source": []
  }
 ],
 "metadata": {
  "anaconda-cloud": {},
  "kernelspec": {
   "display_name": "Python [py35]",
   "language": "python",
   "name": "Python [py35]"
  },
  "language_info": {
   "codemirror_mode": {
    "name": "ipython",
    "version": 3
   },
   "file_extension": ".py",
   "mimetype": "text/x-python",
   "name": "python",
   "nbconvert_exporter": "python",
   "pygments_lexer": "ipython3",
   "version": "3.5.6"
  }
 },
 "nbformat": 4,
 "nbformat_minor": 2
}
